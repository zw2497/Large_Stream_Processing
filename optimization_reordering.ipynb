{
  "nbformat": 4,
  "nbformat_minor": 0,
  "metadata": {
    "colab": {
      "name": "large_data_optimization_reordering.ipynb",
      "version": "0.3.2",
      "provenance": [],
      "collapsed_sections": [],
      "include_colab_link": true
    },
    "kernelspec": {
      "name": "python3",
      "display_name": "Python 3"
    },
    "accelerator": "GPU"
  },
  "cells": [
    {
      "cell_type": "markdown",
      "metadata": {
        "id": "view-in-github",
        "colab_type": "text"
      },
      "source": [
        "<a href=\"https://colab.research.google.com/github/zw2497/Large_Stream_Processing/blob/master/optimization_reordering.ipynb\" target=\"_parent\"><img src=\"https://colab.research.google.com/assets/colab-badge.svg\" alt=\"Open In Colab\"/></a>"
      ]
    },
    {
      "metadata": {
        "id": "kvD4HBMi0ohY",
        "colab_type": "text"
      },
      "cell_type": "markdown",
      "source": [
        "# Install Java, Spark, and Findspark\n",
        "This installs Apache Spark 2.3.1, Java 8, and [Findspark](https://github.com/minrk/findspark), a library that makes it easy for Python to find Spark."
      ]
    },
    {
      "metadata": {
        "id": "fUhBhrGmyAvs",
        "colab_type": "code",
        "outputId": "07f51666-b635-474c-c619-b0242597e7ae",
        "colab": {
          "base_uri": "https://localhost:8080/",
          "height": 300
        }
      },
      "cell_type": "code",
      "source": [
        "!apt-get install openjdk-8-jdk-headless -qq > /dev/null\n",
        "!wget -q https://www-eu.apache.org/dist/spark/spark-2.4.0/spark-2.4.0-bin-hadoop2.7.tgz\n",
        "!tar xf spark-2.4.0-bin-hadoop2.7.tgz\n",
        "!pip install findspark"
      ],
      "execution_count": 0,
      "outputs": [
        {
          "output_type": "stream",
          "text": [
            "Collecting findspark\n",
            "  Downloading https://files.pythonhosted.org/packages/b1/c8/e6e1f6a303ae5122dc28d131b5a67c5eb87cbf8f7ac5b9f87764ea1b1e1e/findspark-1.3.0-py2.py3-none-any.whl\n",
            "Installing collected packages: findspark\n",
            "Successfully installed findspark-1.3.0\n"
          ],
          "name": "stdout"
        }
      ]
    },
    {
      "metadata": {
        "id": "b4Kjvk_h1AHl",
        "colab_type": "text"
      },
      "cell_type": "markdown",
      "source": [
        "#### Set Environment Variables\n",
        "Set the locations where Spark and Java are installed."
      ]
    },
    {
      "metadata": {
        "id": "8Xnb_ePUyQIL",
        "colab_type": "code",
        "colab": {}
      },
      "cell_type": "code",
      "source": [
        "import os\n",
        "os.environ[\"JAVA_HOME\"] = \"/usr/lib/jvm/java-8-openjdk-amd64\"\n",
        "os.environ[\"SPARK_HOME\"] = \"/content/spark-2.4.0-bin-hadoop2.7\""
      ],
      "execution_count": 0,
      "outputs": []
    },
    {
      "metadata": {
        "id": "NwU28K5f1H3P",
        "colab_type": "text"
      },
      "cell_type": "markdown",
      "source": [
        "# Start a SparkSession\n",
        "This will start a local Spark session."
      ]
    },
    {
      "metadata": {
        "id": "1xir0D2Qb9qX",
        "colab_type": "code",
        "colab": {}
      },
      "cell_type": "code",
      "source": [
        "import time\n",
        "import re\n",
        "import math\n",
        "import numpy as np"
      ],
      "execution_count": 0,
      "outputs": []
    },
    {
      "metadata": {
        "id": "zgReRGl0y23D",
        "colab_type": "code",
        "colab": {}
      },
      "cell_type": "code",
      "source": [
        "import findspark\n",
        "findspark.init()\n",
        "from pyspark.sql import SparkSession\n",
        "from pyspark.sql.functions import explode\n",
        "from pyspark.sql.functions import split\n",
        "\n",
        "spark = SparkSession \\\n",
        "    .builder \\\n",
        "    .appName(\"StructuredNetworkWordCount\") \\\n",
        "    .getOrCreate()"
      ],
      "execution_count": 0,
      "outputs": []
    },
    {
      "metadata": {
        "id": "pdfdAYNCRvp-",
        "colab_type": "code",
        "colab": {}
      },
      "cell_type": "code",
      "source": [
        "df = spark.read.load(\"/content/epa-http.txt\", format=\"text\")"
      ],
      "execution_count": 0,
      "outputs": []
    },
    {
      "metadata": {
        "id": "Gj4cY6AGyWKm",
        "colab_type": "text"
      },
      "cell_type": "markdown",
      "source": [
        "# Check dataset"
      ]
    },
    {
      "metadata": {
        "id": "fmanp_7ocQDH",
        "colab_type": "code",
        "outputId": "2106dac4-00b2-4164-e6be-fca3bd446024",
        "colab": {
          "base_uri": "https://localhost:8080/",
          "height": 590
        }
      },
      "cell_type": "code",
      "source": [
        "df.show(truncate=False)\n",
        "df.printSchema()"
      ],
      "execution_count": 0,
      "outputs": [
        {
          "output_type": "stream",
          "text": [
            "+----------------------------------------------------------------------------------------------------------------+\n",
            "|value                                                                                                           |\n",
            "+----------------------------------------------------------------------------------------------------------------+\n",
            "|141.243.1.172 [29:23:53:25] \"GET /Software.html HTTP/1.0\" 200 1497                                              |\n",
            "|query2.lycos.cs.cmu.edu [29:23:53:36] \"GET /Consumer.html HTTP/1.0\" 200 1325                                    |\n",
            "|tanuki.twics.com [29:23:53:53] \"GET /News.html HTTP/1.0\" 200 1014                                               |\n",
            "|wpbfl2-45.gate.net [29:23:54:15] \"GET / HTTP/1.0\" 200 4889                                                      |\n",
            "|wpbfl2-45.gate.net [29:23:54:16] \"GET /icons/circle_logo_small.gif HTTP/1.0\" 200 2624                           |\n",
            "|wpbfl2-45.gate.net [29:23:54:18] \"GET /logos/small_gopher.gif HTTP/1.0\" 200 935                                 |\n",
            "|140.112.68.165 [29:23:54:19] \"GET /logos/us-flag.gif HTTP/1.0\" 200 2788                                         |\n",
            "|wpbfl2-45.gate.net [29:23:54:19] \"GET /logos/small_ftp.gif HTTP/1.0\" 200 124                                    |\n",
            "|wpbfl2-45.gate.net [29:23:54:19] \"GET /icons/book.gif HTTP/1.0\" 200 156                                         |\n",
            "|wpbfl2-45.gate.net [29:23:54:19] \"GET /logos/us-flag.gif HTTP/1.0\" 200 2788                                     |\n",
            "|tanuki.twics.com [29:23:54:19] \"GET /docs/OSWRCRA/general/hotline HTTP/1.0\" 302 -                               |\n",
            "|wpbfl2-45.gate.net [29:23:54:20] \"GET /icons/ok2-0.gif HTTP/1.0\" 200 231                                        |\n",
            "|tanuki.twics.com [29:23:54:25] \"GET /OSWRCRA/general/hotline/ HTTP/1.0\" 200 991                                 |\n",
            "|tanuki.twics.com [29:23:54:37] \"GET /docs/OSWRCRA/general/hotline/95report HTTP/1.0\" 302 -                      |\n",
            "|wpbfl2-45.gate.net [29:23:54:37] \"GET /docs/browner/adminbio.html HTTP/1.0\" 200 4217                            |\n",
            "|tanuki.twics.com [29:23:54:40] \"GET /OSWRCRA/general/hotline/95report/ HTTP/1.0\" 200 1250                       |\n",
            "|wpbfl2-45.gate.net [29:23:55:01] \"GET /docs/browner/cbpress.gif HTTP/1.0\" 200 51661                             |\n",
            "|dd15-032.compuserve.com [29:23:55:21] \"GET /Access/chapter1/s2-4.html HTTP/1.0\" 200 4602                        |\n",
            "|tanuki.twics.com [29:23:55:23] \"GET /docs/OSWRCRA/general/hotline/95report/05_95mhr.txt.html HTTP/1.0\" 200 56431|\n",
            "|wpbfl2-45.gate.net [29:23:55:29] \"GET /docs/Access HTTP/1.0\" 302 -                                              |\n",
            "+----------------------------------------------------------------------------------------------------------------+\n",
            "only showing top 20 rows\n",
            "\n",
            "root\n",
            " |-- value: string (nullable = true)\n",
            "\n"
          ],
          "name": "stdout"
        }
      ]
    },
    {
      "metadata": {
        "id": "ubyyuCJEi-x9",
        "colab_type": "code",
        "outputId": "33913669-339b-45cb-a42d-a7731ae5bcf8",
        "colab": {
          "base_uri": "https://localhost:8080/",
          "height": 34
        }
      },
      "cell_type": "code",
      "source": [
        "def parse(x,n):\n",
        "    res = re.findall(r\"([^\\s]+)\\s\\[([^\\s]+)\\]\\s\\\"(.+)\\\"\\s(\\w+)\\s(\\w+)\", x)\n",
        "    return res[0][n].strip() if len(res)>=1 else \"\"\n",
        "\n",
        "spark.udf.register(\"parse\", parse)"
      ],
      "execution_count": 0,
      "outputs": [
        {
          "output_type": "execute_result",
          "data": {
            "text/plain": [
              "<function __main__.parse>"
            ]
          },
          "metadata": {
            "tags": []
          },
          "execution_count": 10
        }
      ]
    },
    {
      "metadata": {
        "id": "WuQFeeZQOiDi",
        "colab_type": "text"
      },
      "cell_type": "markdown",
      "source": [
        "# OPERATOR REORDERING\n",
        "Count how many rows in total"
      ]
    },
    {
      "metadata": {
        "id": "tajq5mPcNCVL",
        "colab_type": "code",
        "outputId": "addb0ef2-b07a-4322-9c45-9ecf8277c92a",
        "colab": {
          "base_uri": "https://localhost:8080/",
          "height": 51
        }
      },
      "cell_type": "code",
      "source": [
        "%%time\n",
        "q = \"\"\"SELECT parse(value,0) as ipaddr,  parse(value,4) as size FROM t\"\"\"\n",
        "df.createOrReplaceTempView(\"t\")\n",
        "df1 = spark.sql(q)"
      ],
      "execution_count": 0,
      "outputs": [
        {
          "output_type": "stream",
          "text": [
            "CPU times: user 691 µs, sys: 1.22 ms, total: 1.91 ms\n",
            "Wall time: 16.5 ms\n"
          ],
          "name": "stdout"
        }
      ]
    },
    {
      "metadata": {
        "id": "8el6lLm7xa_H",
        "colab_type": "text"
      },
      "cell_type": "markdown",
      "source": [
        "# Set selectivity"
      ]
    },
    {
      "metadata": {
        "id": "Z4JldJQKZ07K",
        "colab_type": "code",
        "outputId": "b8b683c7-c10f-449d-b838-469f32bd2ec5",
        "colab": {
          "base_uri": "https://localhost:8080/",
          "height": 51
        }
      },
      "cell_type": "code",
      "source": [
        "selectivity = np.linspace(0.01, 1, 9)\n",
        "selectivity"
      ],
      "execution_count": 0,
      "outputs": [
        {
          "output_type": "execute_result",
          "data": {
            "text/plain": [
              "array([0.01   , 0.13375, 0.2575 , 0.38125, 0.505  , 0.62875, 0.7525 ,\n",
              "       0.87625, 1.     ])"
            ]
          },
          "metadata": {
            "tags": []
          },
          "execution_count": 144
        }
      ]
    },
    {
      "metadata": {
        "id": "VyIQmEf2xiVC",
        "colab_type": "text"
      },
      "cell_type": "markdown",
      "source": [
        "# Throughput with no reordering"
      ]
    },
    {
      "metadata": {
        "id": "6Jlj8XDRvcaT",
        "colab_type": "code",
        "outputId": "7bdeb1f9-ea55-4e6a-c11e-a1ca3e2d3f10",
        "colab": {
          "base_uri": "https://localhost:8080/",
          "height": 34
        }
      },
      "cell_type": "code",
      "source": [
        "thput_no_reorder = []\n",
        "selectivity1 = (47748 * selectivity / 2).astype('int')\n",
        "\n",
        "for i in selectivity1:\n",
        "    q1 = \"\"\"SELECT T1.ipaddr, T1.size \n",
        "    FROM t as T1, t as T2 \n",
        "    where T1.ipaddr = T2.ipaddr and T1.size % 2 = 0\"\"\"\n",
        "    \n",
        "    q2 = \"\"\"SELECT T1.ipaddr, T1.size \n",
        "    FROM t as T1, t as T2 \n",
        "    where T1.ipaddr = T2.ipaddr limit {i}\"\"\".format(i = i)\n",
        "\n",
        "\n",
        "    start = time.time()\n",
        "    df1.createOrReplaceTempView(\"t\")\n",
        "    df2 = spark.sql(q1)\n",
        "\n",
        "    df2.createOrReplaceTempView(\"t\")\n",
        "    df2 = spark.sql(q2)\n",
        "    df2.collect()\n",
        "    end = time.time()\n",
        "    thput_no_reorder.append(round(end - start, 2))\n",
        "print(\"not_reordering\",thput_no_reorder)"
      ],
      "execution_count": 0,
      "outputs": [
        {
          "output_type": "stream",
          "text": [
            "not_reordering [3.29, 5.32, 4.68, 4.5, 4.48, 4.52, 4.59, 4.75, 4.56]\n"
          ],
          "name": "stdout"
        }
      ]
    },
    {
      "metadata": {
        "id": "OLIuGZsZxl2G",
        "colab_type": "text"
      },
      "cell_type": "markdown",
      "source": [
        "# Throughput with reordering"
      ]
    },
    {
      "metadata": {
        "id": "qL4JAPA_dtQe",
        "colab_type": "code",
        "outputId": "b16a1763-da6a-423e-92f8-b04910c94d0c",
        "colab": {
          "base_uri": "https://localhost:8080/",
          "height": 34
        }
      },
      "cell_type": "code",
      "source": [
        "thput_reorder = []\n",
        "selectivity2 = (47748 * selectivity).astype('int')\n",
        "for i in selectivity2:\n",
        "    q1 = \"\"\"SELECT T1.ipaddr, T1.size \n",
        "    FROM t as T1, t as T2 \n",
        "    where T1.ipaddr = T2.ipaddr limit {i}\"\"\".format(i = i)\n",
        "    \n",
        "    q2 = \"\"\"SELECT T1.ipaddr, T1.size \n",
        "    FROM t as T1, t as T2 \n",
        "    where T1.ipaddr = T2.ipaddr and T1.size % 2 = 0\"\"\"\n",
        "\n",
        "    start = time.time()\n",
        "    df1.createOrReplaceTempView(\"t\")\n",
        "    df2 = spark.sql(q1)\n",
        "    df2.collect()\n",
        "\n",
        "    df2.createOrReplaceTempView(\"t\")\n",
        "    df2 = spark.sql(q2)\n",
        "    df2.collect()\n",
        "    end = time.time()\n",
        "    thput_reorder.append(round(end - start, 2))\n",
        "print(\"reordering\",thput_reorder)"
      ],
      "execution_count": 0,
      "outputs": [
        {
          "output_type": "stream",
          "text": [
            "reordering [3.12, 3.02, 3.19, 4.0, 4.03, 7.97, 7.92, 18.4, 18.36]\n"
          ],
          "name": "stdout"
        }
      ]
    },
    {
      "metadata": {
        "id": "ilCb4toHxsgx",
        "colab_type": "text"
      },
      "cell_type": "markdown",
      "source": [
        "# Plot the result"
      ]
    },
    {
      "metadata": {
        "id": "MJi9Vyf2HMUA",
        "colab_type": "code",
        "outputId": "e5af296b-1c82-40f3-d86c-9e3326f184bf",
        "colab": {
          "base_uri": "https://localhost:8080/",
          "height": 427
        }
      },
      "cell_type": "code",
      "source": [
        "import matplotlib.pyplot as plt\n",
        "fig, ax = plt.subplots()\n",
        "ax.plot(selectivity[1:], 47748 / np.array(thput_reorder)[1:], label='With reordering')\n",
        "ax.plot(selectivity[1:], 47748 / np.array(thput_no_reorder)[1:], ':',label='No reordering')\n",
        "ax.legend()\n",
        "ax.set(xlabel='Selectivity of B', ylabel='Throughput',\n",
        "       title='Selection Reordering')"
      ],
      "execution_count": 0,
      "outputs": [
        {
          "output_type": "execute_result",
          "data": {
            "text/plain": [
              "[Text(0, 0.5, 'Throughput'),\n",
              " Text(0.5, 0, 'Selectivity of B'),\n",
              " Text(0.5, 1.0, 'Selection Reordering')]"
            ]
          },
          "metadata": {
            "tags": []
          },
          "execution_count": 159
        },
        {
          "output_type": "display_data",
          "data": {
            "image/png": "[encoded data removed]",
            "text/plain": [
              "<Figure size 576x396 with 1 Axes>"
            ]
          },
          "metadata": {
            "tags": []
          }
        }
      ]
    }
  ]
}